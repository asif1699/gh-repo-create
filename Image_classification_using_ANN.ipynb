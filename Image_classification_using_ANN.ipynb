{
  "nbformat": 4,
  "nbformat_minor": 0,
  "metadata": {
    "colab": {
      "name": "Image classification using ANN.ipynb",
      "provenance": [],
      "collapsed_sections": [],
      "mount_file_id": "1DEFzfE0Ihh0pkHiCqF3b0_qDejpuzxX_",
      "authorship_tag": "ABX9TyPD4CaSwYlfFJa6ob49drAZ",
      "include_colab_link": true
    },
    "kernelspec": {
      "name": "python3",
      "display_name": "Python 3"
    },
    "language_info": {
      "name": "python"
    },
    "accelerator": "GPU",
    "widgets": {
      "application/vnd.jupyter.widget-state+json": {
        "bb50349b84054d0cb1d2216b5778f8d5": {
          "model_module": "@jupyter-widgets/controls",
          "model_name": "HBoxModel",
          "model_module_version": "1.5.0",
          "state": {
            "_view_name": "HBoxView",
            "_dom_classes": [],
            "_model_name": "HBoxModel",
            "_view_module": "@jupyter-widgets/controls",
            "_model_module_version": "1.5.0",
            "_view_count": null,
            "_view_module_version": "1.5.0",
            "box_style": "",
            "layout": "IPY_MODEL_60fdf49906064d0c80a926698d45f57c",
            "_model_module": "@jupyter-widgets/controls",
            "children": [
              "IPY_MODEL_08d43f29e3c44a698621a684d49b344d",
              "IPY_MODEL_f77883496bb8435792f856f5d6aa93e6",
              "IPY_MODEL_6adf1597758b4c8ea7fac5f50335cf67"
            ]
          }
        },
        "60fdf49906064d0c80a926698d45f57c": {
          "model_module": "@jupyter-widgets/base",
          "model_name": "LayoutModel",
          "model_module_version": "1.2.0",
          "state": {
            "_view_name": "LayoutView",
            "grid_template_rows": null,
            "right": null,
            "justify_content": null,
            "_view_module": "@jupyter-widgets/base",
            "overflow": null,
            "_model_module_version": "1.2.0",
            "_view_count": null,
            "flex_flow": null,
            "width": null,
            "min_width": null,
            "border": null,
            "align_items": null,
            "bottom": null,
            "_model_module": "@jupyter-widgets/base",
            "top": null,
            "grid_column": null,
            "overflow_y": null,
            "overflow_x": null,
            "grid_auto_flow": null,
            "grid_area": null,
            "grid_template_columns": null,
            "flex": null,
            "_model_name": "LayoutModel",
            "justify_items": null,
            "grid_row": null,
            "max_height": null,
            "align_content": null,
            "visibility": null,
            "align_self": null,
            "height": null,
            "min_height": null,
            "padding": null,
            "grid_auto_rows": null,
            "grid_gap": null,
            "max_width": null,
            "order": null,
            "_view_module_version": "1.2.0",
            "grid_template_areas": null,
            "object_position": null,
            "object_fit": null,
            "grid_auto_columns": null,
            "margin": null,
            "display": null,
            "left": null
          }
        },
        "08d43f29e3c44a698621a684d49b344d": {
          "model_module": "@jupyter-widgets/controls",
          "model_name": "HTMLModel",
          "model_module_version": "1.5.0",
          "state": {
            "_view_name": "HTMLView",
            "style": "IPY_MODEL_1af91baaaa8b4e50aab91129f2880790",
            "_dom_classes": [],
            "description": "",
            "_model_name": "HTMLModel",
            "placeholder": "​",
            "_view_module": "@jupyter-widgets/controls",
            "_model_module_version": "1.5.0",
            "value": "100%",
            "_view_count": null,
            "_view_module_version": "1.5.0",
            "description_tooltip": null,
            "_model_module": "@jupyter-widgets/controls",
            "layout": "IPY_MODEL_7a1b17eff7334fa5b83d518421fc3cf9"
          }
        },
        "f77883496bb8435792f856f5d6aa93e6": {
          "model_module": "@jupyter-widgets/controls",
          "model_name": "FloatProgressModel",
          "model_module_version": "1.5.0",
          "state": {
            "_view_name": "ProgressView",
            "style": "IPY_MODEL_e1d2bb38e21a42289aeffba91e1373ee",
            "_dom_classes": [],
            "description": "",
            "_model_name": "FloatProgressModel",
            "bar_style": "success",
            "max": 883,
            "_view_module": "@jupyter-widgets/controls",
            "_model_module_version": "1.5.0",
            "value": 883,
            "_view_count": null,
            "_view_module_version": "1.5.0",
            "orientation": "horizontal",
            "min": 0,
            "description_tooltip": null,
            "_model_module": "@jupyter-widgets/controls",
            "layout": "IPY_MODEL_3202c713448e4b7883ad90aa49bae08e"
          }
        },
        "6adf1597758b4c8ea7fac5f50335cf67": {
          "model_module": "@jupyter-widgets/controls",
          "model_name": "HTMLModel",
          "model_module_version": "1.5.0",
          "state": {
            "_view_name": "HTMLView",
            "style": "IPY_MODEL_e7c9cc9ceba544e4b1e0166ff90eb105",
            "_dom_classes": [],
            "description": "",
            "_model_name": "HTMLModel",
            "placeholder": "​",
            "_view_module": "@jupyter-widgets/controls",
            "_model_module_version": "1.5.0",
            "value": " 883/883 [01:35&lt;00:00,  7.53it/s]",
            "_view_count": null,
            "_view_module_version": "1.5.0",
            "description_tooltip": null,
            "_model_module": "@jupyter-widgets/controls",
            "layout": "IPY_MODEL_ae8a5772337e41438e2a86eec27db92a"
          }
        },
        "1af91baaaa8b4e50aab91129f2880790": {
          "model_module": "@jupyter-widgets/controls",
          "model_name": "DescriptionStyleModel",
          "model_module_version": "1.5.0",
          "state": {
            "_view_name": "StyleView",
            "_model_name": "DescriptionStyleModel",
            "description_width": "",
            "_view_module": "@jupyter-widgets/base",
            "_model_module_version": "1.5.0",
            "_view_count": null,
            "_view_module_version": "1.2.0",
            "_model_module": "@jupyter-widgets/controls"
          }
        },
        "7a1b17eff7334fa5b83d518421fc3cf9": {
          "model_module": "@jupyter-widgets/base",
          "model_name": "LayoutModel",
          "model_module_version": "1.2.0",
          "state": {
            "_view_name": "LayoutView",
            "grid_template_rows": null,
            "right": null,
            "justify_content": null,
            "_view_module": "@jupyter-widgets/base",
            "overflow": null,
            "_model_module_version": "1.2.0",
            "_view_count": null,
            "flex_flow": null,
            "width": null,
            "min_width": null,
            "border": null,
            "align_items": null,
            "bottom": null,
            "_model_module": "@jupyter-widgets/base",
            "top": null,
            "grid_column": null,
            "overflow_y": null,
            "overflow_x": null,
            "grid_auto_flow": null,
            "grid_area": null,
            "grid_template_columns": null,
            "flex": null,
            "_model_name": "LayoutModel",
            "justify_items": null,
            "grid_row": null,
            "max_height": null,
            "align_content": null,
            "visibility": null,
            "align_self": null,
            "height": null,
            "min_height": null,
            "padding": null,
            "grid_auto_rows": null,
            "grid_gap": null,
            "max_width": null,
            "order": null,
            "_view_module_version": "1.2.0",
            "grid_template_areas": null,
            "object_position": null,
            "object_fit": null,
            "grid_auto_columns": null,
            "margin": null,
            "display": null,
            "left": null
          }
        },
        "e1d2bb38e21a42289aeffba91e1373ee": {
          "model_module": "@jupyter-widgets/controls",
          "model_name": "ProgressStyleModel",
          "model_module_version": "1.5.0",
          "state": {
            "_view_name": "StyleView",
            "_model_name": "ProgressStyleModel",
            "description_width": "",
            "_view_module": "@jupyter-widgets/base",
            "_model_module_version": "1.5.0",
            "_view_count": null,
            "_view_module_version": "1.2.0",
            "bar_color": null,
            "_model_module": "@jupyter-widgets/controls"
          }
        },
        "3202c713448e4b7883ad90aa49bae08e": {
          "model_module": "@jupyter-widgets/base",
          "model_name": "LayoutModel",
          "model_module_version": "1.2.0",
          "state": {
            "_view_name": "LayoutView",
            "grid_template_rows": null,
            "right": null,
            "justify_content": null,
            "_view_module": "@jupyter-widgets/base",
            "overflow": null,
            "_model_module_version": "1.2.0",
            "_view_count": null,
            "flex_flow": null,
            "width": null,
            "min_width": null,
            "border": null,
            "align_items": null,
            "bottom": null,
            "_model_module": "@jupyter-widgets/base",
            "top": null,
            "grid_column": null,
            "overflow_y": null,
            "overflow_x": null,
            "grid_auto_flow": null,
            "grid_area": null,
            "grid_template_columns": null,
            "flex": null,
            "_model_name": "LayoutModel",
            "justify_items": null,
            "grid_row": null,
            "max_height": null,
            "align_content": null,
            "visibility": null,
            "align_self": null,
            "height": null,
            "min_height": null,
            "padding": null,
            "grid_auto_rows": null,
            "grid_gap": null,
            "max_width": null,
            "order": null,
            "_view_module_version": "1.2.0",
            "grid_template_areas": null,
            "object_position": null,
            "object_fit": null,
            "grid_auto_columns": null,
            "margin": null,
            "display": null,
            "left": null
          }
        },
        "e7c9cc9ceba544e4b1e0166ff90eb105": {
          "model_module": "@jupyter-widgets/controls",
          "model_name": "DescriptionStyleModel",
          "model_module_version": "1.5.0",
          "state": {
            "_view_name": "StyleView",
            "_model_name": "DescriptionStyleModel",
            "description_width": "",
            "_view_module": "@jupyter-widgets/base",
            "_model_module_version": "1.5.0",
            "_view_count": null,
            "_view_module_version": "1.2.0",
            "_model_module": "@jupyter-widgets/controls"
          }
        },
        "ae8a5772337e41438e2a86eec27db92a": {
          "model_module": "@jupyter-widgets/base",
          "model_name": "LayoutModel",
          "model_module_version": "1.2.0",
          "state": {
            "_view_name": "LayoutView",
            "grid_template_rows": null,
            "right": null,
            "justify_content": null,
            "_view_module": "@jupyter-widgets/base",
            "overflow": null,
            "_model_module_version": "1.2.0",
            "_view_count": null,
            "flex_flow": null,
            "width": null,
            "min_width": null,
            "border": null,
            "align_items": null,
            "bottom": null,
            "_model_module": "@jupyter-widgets/base",
            "top": null,
            "grid_column": null,
            "overflow_y": null,
            "overflow_x": null,
            "grid_auto_flow": null,
            "grid_area": null,
            "grid_template_columns": null,
            "flex": null,
            "_model_name": "LayoutModel",
            "justify_items": null,
            "grid_row": null,
            "max_height": null,
            "align_content": null,
            "visibility": null,
            "align_self": null,
            "height": null,
            "min_height": null,
            "padding": null,
            "grid_auto_rows": null,
            "grid_gap": null,
            "max_width": null,
            "order": null,
            "_view_module_version": "1.2.0",
            "grid_template_areas": null,
            "object_position": null,
            "object_fit": null,
            "grid_auto_columns": null,
            "margin": null,
            "display": null,
            "left": null
          }
        }
      }
    }
  },
  "cells": [
    {
      "cell_type": "markdown",
      "metadata": {
        "id": "view-in-github",
        "colab_type": "text"
      },
      "source": [
        "<a href=\"https://colab.research.google.com/github/asif1699/Deep-Learning-/blob/main/Image_classification_using_ANN.ipynb\" target=\"_parent\"><img src=\"https://colab.research.google.com/assets/colab-badge.svg\" alt=\"Open In Colab\"/></a>"
      ]
    },
    {
      "cell_type": "code",
      "execution_count": null,
      "metadata": {
        "id": "lLLK7usjaD7Q"
      },
      "outputs": [],
      "source": [
        "import tensorflow as tf\n"
      ]
    },
    {
      "cell_type": "code",
      "source": [
        "print(tf.__version__)"
      ],
      "metadata": {
        "colab": {
          "base_uri": "https://localhost:8080/"
        },
        "id": "7Tbxu3ZLQaUs",
        "outputId": "0b8cf2b8-f18e-4be6-e7c7-e3390eaed63a"
      },
      "execution_count": null,
      "outputs": [
        {
          "output_type": "stream",
          "name": "stdout",
          "text": [
            "2.7.0\n"
          ]
        }
      ]
    },
    {
      "cell_type": "code",
      "source": [
        "! pip install tensorflow==2.0"
      ],
      "metadata": {
        "id": "aGk_rxtpQfim",
        "colab": {
          "base_uri": "https://localhost:8080/",
          "height": 1000
        },
        "outputId": "ff3fc7e4-123c-451f-e5cb-a119e2be90c2"
      },
      "execution_count": null,
      "outputs": [
        {
          "output_type": "stream",
          "name": "stdout",
          "text": [
            "Collecting tensorflow==2.0\n",
            "  Downloading tensorflow-2.0.0-cp37-cp37m-manylinux2010_x86_64.whl (86.3 MB)\n",
            "\u001b[K     |████████████████████████████████| 86.3 MB 44 kB/s \n",
            "\u001b[?25hRequirement already satisfied: opt-einsum>=2.3.2 in /usr/local/lib/python3.7/dist-packages (from tensorflow==2.0) (3.3.0)\n",
            "Requirement already satisfied: astor>=0.6.0 in /usr/local/lib/python3.7/dist-packages (from tensorflow==2.0) (0.8.1)\n",
            "Collecting keras-applications>=1.0.8\n",
            "  Downloading Keras_Applications-1.0.8-py3-none-any.whl (50 kB)\n",
            "\u001b[K     |████████████████████████████████| 50 kB 7.8 MB/s \n",
            "\u001b[?25hCollecting gast==0.2.2\n",
            "  Downloading gast-0.2.2.tar.gz (10 kB)\n",
            "Requirement already satisfied: keras-preprocessing>=1.0.5 in /usr/local/lib/python3.7/dist-packages (from tensorflow==2.0) (1.1.2)\n",
            "Requirement already satisfied: wrapt>=1.11.1 in /usr/local/lib/python3.7/dist-packages (from tensorflow==2.0) (1.13.3)\n",
            "Collecting tensorboard<2.1.0,>=2.0.0\n",
            "  Downloading tensorboard-2.0.2-py3-none-any.whl (3.8 MB)\n",
            "\u001b[K     |████████████████████████████████| 3.8 MB 63.9 MB/s \n",
            "\u001b[?25hRequirement already satisfied: grpcio>=1.8.6 in /usr/local/lib/python3.7/dist-packages (from tensorflow==2.0) (1.43.0)\n",
            "Requirement already satisfied: protobuf>=3.6.1 in /usr/local/lib/python3.7/dist-packages (from tensorflow==2.0) (3.17.3)\n",
            "Requirement already satisfied: six>=1.10.0 in /usr/local/lib/python3.7/dist-packages (from tensorflow==2.0) (1.15.0)\n",
            "Requirement already satisfied: termcolor>=1.1.0 in /usr/local/lib/python3.7/dist-packages (from tensorflow==2.0) (1.1.0)\n",
            "Collecting tensorflow-estimator<2.1.0,>=2.0.0\n",
            "  Downloading tensorflow_estimator-2.0.1-py2.py3-none-any.whl (449 kB)\n",
            "\u001b[K     |████████████████████████████████| 449 kB 77.2 MB/s \n",
            "\u001b[?25hRequirement already satisfied: wheel>=0.26 in /usr/local/lib/python3.7/dist-packages (from tensorflow==2.0) (0.37.1)\n",
            "Requirement already satisfied: absl-py>=0.7.0 in /usr/local/lib/python3.7/dist-packages (from tensorflow==2.0) (0.12.0)\n",
            "Requirement already satisfied: google-pasta>=0.1.6 in /usr/local/lib/python3.7/dist-packages (from tensorflow==2.0) (0.2.0)\n",
            "Requirement already satisfied: numpy<2.0,>=1.16.0 in /usr/local/lib/python3.7/dist-packages (from tensorflow==2.0) (1.19.5)\n",
            "Requirement already satisfied: h5py in /usr/local/lib/python3.7/dist-packages (from keras-applications>=1.0.8->tensorflow==2.0) (3.1.0)\n",
            "Requirement already satisfied: setuptools>=41.0.0 in /usr/local/lib/python3.7/dist-packages (from tensorboard<2.1.0,>=2.0.0->tensorflow==2.0) (57.4.0)\n",
            "Requirement already satisfied: google-auth<2,>=1.6.3 in /usr/local/lib/python3.7/dist-packages (from tensorboard<2.1.0,>=2.0.0->tensorflow==2.0) (1.35.0)\n",
            "Requirement already satisfied: requests<3,>=2.21.0 in /usr/local/lib/python3.7/dist-packages (from tensorboard<2.1.0,>=2.0.0->tensorflow==2.0) (2.23.0)\n",
            "Requirement already satisfied: werkzeug>=0.11.15 in /usr/local/lib/python3.7/dist-packages (from tensorboard<2.1.0,>=2.0.0->tensorflow==2.0) (1.0.1)\n",
            "Requirement already satisfied: google-auth-oauthlib<0.5,>=0.4.1 in /usr/local/lib/python3.7/dist-packages (from tensorboard<2.1.0,>=2.0.0->tensorflow==2.0) (0.4.6)\n",
            "Requirement already satisfied: markdown>=2.6.8 in /usr/local/lib/python3.7/dist-packages (from tensorboard<2.1.0,>=2.0.0->tensorflow==2.0) (3.3.6)\n",
            "Requirement already satisfied: rsa<5,>=3.1.4 in /usr/local/lib/python3.7/dist-packages (from google-auth<2,>=1.6.3->tensorboard<2.1.0,>=2.0.0->tensorflow==2.0) (4.8)\n",
            "Requirement already satisfied: cachetools<5.0,>=2.0.0 in /usr/local/lib/python3.7/dist-packages (from google-auth<2,>=1.6.3->tensorboard<2.1.0,>=2.0.0->tensorflow==2.0) (4.2.4)\n",
            "Requirement already satisfied: pyasn1-modules>=0.2.1 in /usr/local/lib/python3.7/dist-packages (from google-auth<2,>=1.6.3->tensorboard<2.1.0,>=2.0.0->tensorflow==2.0) (0.2.8)\n",
            "Requirement already satisfied: requests-oauthlib>=0.7.0 in /usr/local/lib/python3.7/dist-packages (from google-auth-oauthlib<0.5,>=0.4.1->tensorboard<2.1.0,>=2.0.0->tensorflow==2.0) (1.3.0)\n",
            "Requirement already satisfied: importlib-metadata>=4.4 in /usr/local/lib/python3.7/dist-packages (from markdown>=2.6.8->tensorboard<2.1.0,>=2.0.0->tensorflow==2.0) (4.10.0)\n",
            "Requirement already satisfied: zipp>=0.5 in /usr/local/lib/python3.7/dist-packages (from importlib-metadata>=4.4->markdown>=2.6.8->tensorboard<2.1.0,>=2.0.0->tensorflow==2.0) (3.7.0)\n",
            "Requirement already satisfied: typing-extensions>=3.6.4 in /usr/local/lib/python3.7/dist-packages (from importlib-metadata>=4.4->markdown>=2.6.8->tensorboard<2.1.0,>=2.0.0->tensorflow==2.0) (3.10.0.2)\n",
            "Requirement already satisfied: pyasn1<0.5.0,>=0.4.6 in /usr/local/lib/python3.7/dist-packages (from pyasn1-modules>=0.2.1->google-auth<2,>=1.6.3->tensorboard<2.1.0,>=2.0.0->tensorflow==2.0) (0.4.8)\n",
            "Requirement already satisfied: idna<3,>=2.5 in /usr/local/lib/python3.7/dist-packages (from requests<3,>=2.21.0->tensorboard<2.1.0,>=2.0.0->tensorflow==2.0) (2.10)\n",
            "Requirement already satisfied: urllib3!=1.25.0,!=1.25.1,<1.26,>=1.21.1 in /usr/local/lib/python3.7/dist-packages (from requests<3,>=2.21.0->tensorboard<2.1.0,>=2.0.0->tensorflow==2.0) (1.24.3)\n",
            "Requirement already satisfied: certifi>=2017.4.17 in /usr/local/lib/python3.7/dist-packages (from requests<3,>=2.21.0->tensorboard<2.1.0,>=2.0.0->tensorflow==2.0) (2021.10.8)\n",
            "Requirement already satisfied: chardet<4,>=3.0.2 in /usr/local/lib/python3.7/dist-packages (from requests<3,>=2.21.0->tensorboard<2.1.0,>=2.0.0->tensorflow==2.0) (3.0.4)\n",
            "Requirement already satisfied: oauthlib>=3.0.0 in /usr/local/lib/python3.7/dist-packages (from requests-oauthlib>=0.7.0->google-auth-oauthlib<0.5,>=0.4.1->tensorboard<2.1.0,>=2.0.0->tensorflow==2.0) (3.1.1)\n",
            "Requirement already satisfied: cached-property in /usr/local/lib/python3.7/dist-packages (from h5py->keras-applications>=1.0.8->tensorflow==2.0) (1.5.2)\n",
            "Building wheels for collected packages: gast\n",
            "  Building wheel for gast (setup.py) ... \u001b[?25l\u001b[?25hdone\n",
            "  Created wheel for gast: filename=gast-0.2.2-py3-none-any.whl size=7554 sha256=19904f2ec22831928b940b9abb3fbc61dbb0b2b3be25e8209b6c9cd826e33191\n",
            "  Stored in directory: /root/.cache/pip/wheels/21/7f/02/420f32a803f7d0967b48dd823da3f558c5166991bfd204eef3\n",
            "Successfully built gast\n",
            "Installing collected packages: tensorflow-estimator, tensorboard, keras-applications, gast, tensorflow\n",
            "  Attempting uninstall: tensorflow-estimator\n",
            "    Found existing installation: tensorflow-estimator 2.7.0\n",
            "    Uninstalling tensorflow-estimator-2.7.0:\n",
            "      Successfully uninstalled tensorflow-estimator-2.7.0\n",
            "  Attempting uninstall: tensorboard\n",
            "    Found existing installation: tensorboard 2.7.0\n",
            "    Uninstalling tensorboard-2.7.0:\n",
            "      Successfully uninstalled tensorboard-2.7.0\n",
            "  Attempting uninstall: gast\n",
            "    Found existing installation: gast 0.4.0\n",
            "    Uninstalling gast-0.4.0:\n",
            "      Successfully uninstalled gast-0.4.0\n",
            "  Attempting uninstall: tensorflow\n",
            "    Found existing installation: tensorflow 2.7.0\n",
            "    Uninstalling tensorflow-2.7.0:\n",
            "      Successfully uninstalled tensorflow-2.7.0\n",
            "\u001b[31mERROR: pip's dependency resolver does not currently take into account all the packages that are installed. This behaviour is the source of the following dependency conflicts.\n",
            "tensorflow-probability 0.15.0 requires gast>=0.3.2, but you have gast 0.2.2 which is incompatible.\u001b[0m\n",
            "Successfully installed gast-0.2.2 keras-applications-1.0.8 tensorboard-2.0.2 tensorflow-2.0.0 tensorflow-estimator-2.0.1\n"
          ]
        },
        {
          "output_type": "display_data",
          "data": {
            "application/vnd.colab-display-data+json": {
              "pip_warning": {
                "packages": [
                  "gast",
                  "tensorboard",
                  "tensorflow"
                ]
              }
            }
          },
          "metadata": {}
        }
      ]
    },
    {
      "cell_type": "code",
      "source": [
        "print(tf.__version__)"
      ],
      "metadata": {
        "colab": {
          "base_uri": "https://localhost:8080/"
        },
        "id": "wAhabZehQ1nL",
        "outputId": "1d2224ab-253f-4f7c-e99c-b01ca0c92b70"
      },
      "execution_count": null,
      "outputs": [
        {
          "output_type": "stream",
          "name": "stdout",
          "text": [
            "2.7.0\n"
          ]
        }
      ]
    },
    {
      "cell_type": "markdown",
      "source": [
        "Importing pacakges"
      ],
      "metadata": {
        "id": "SU60SrIYS5sY"
      }
    },
    {
      "cell_type": "code",
      "source": [
        "import matplotlib as plt\n",
        "import matplotlib.pyplot as plt\n",
        "%matplotlib inline\n",
        "from tensorflow.keras.utils import to_categorical\n",
        "from sklearn.model_selection import train_test_split\n",
        "from sklearn.metrics import confusion_matrix , accuracy_score, classification_report\n",
        "from tensorflow.keras.models import Sequential\n",
        "from tensorflow.keras.layers import Dense, Dropout\n",
        "from tensorflow.keras.optimizers import SGD\n",
        "from imutils import paths\n",
        "import matplotlib.pyplot as plt\n",
        "import numpy as np\n",
        "import random\n",
        "import pickle\n",
        "import cv2\n",
        "import os\n",
        "import time   # time1 = time.time(); print('Time taken: {:.1f} seconds'.format(time.time() - time1))\n",
        "import warnings\n",
        "from tqdm import tqdm_notebook as tqdm\n",
        "import itertools\n",
        "\n",
        "warnings.filterwarnings(\"ignore\")\n",
        "SEED = 42   # set random seed"
      ],
      "metadata": {
        "id": "sGX64KEyREPG"
      },
      "execution_count": null,
      "outputs": []
    },
    {
      "cell_type": "markdown",
      "source": [
        "Loading Data from Google Drive"
      ],
      "metadata": {
        "id": "4WS7wseKAbyw"
      }
    },
    {
      "cell_type": "code",
      "source": [
        "from google.colab import drive\n",
        "drive.mount('/content/drive')"
      ],
      "metadata": {
        "colab": {
          "base_uri": "https://localhost:8080/"
        },
        "id": "FafnT5ElAM2o",
        "outputId": "1ae255df-0b5c-49bb-c691-9c0244d78ab9"
      },
      "execution_count": null,
      "outputs": [
        {
          "output_type": "stream",
          "name": "stdout",
          "text": [
            "Drive already mounted at /content/drive; to attempt to forcibly remount, call drive.mount(\"/content/drive\", force_remount=True).\n"
          ]
        }
      ]
    },
    {
      "cell_type": "code",
      "source": [
        "import os \n",
        "os.chdir('/content/drive/MyDrive/projects/1.image classification')"
      ],
      "metadata": {
        "id": "i-HhkyxES3x5"
      },
      "execution_count": null,
      "outputs": []
    },
    {
      "cell_type": "code",
      "source": [
        "!dir"
      ],
      "metadata": {
        "colab": {
          "base_uri": "https://localhost:8080/"
        },
        "id": "eZtslwSn_0za",
        "outputId": "dbab808a-93b8-4a67-dc2c-2aebb4e4f85b"
      },
      "execution_count": null,
      "outputs": [
        {
          "output_type": "stream",
          "name": "stdout",
          "text": [
            "dataset      Image\\ classification\\ using\\ ANN.ipynb  test_examples.rar\n",
            "dataset1     model_ANN.h5\t\t\t      Unpack_sdtta0e8\n",
            "dataset.rar  test_examples\n",
            "flagged      test_examples1\n"
          ]
        }
      ]
    },
    {
      "cell_type": "code",
      "source": [
        "!pip install patool"
      ],
      "metadata": {
        "colab": {
          "base_uri": "https://localhost:8080/"
        },
        "id": "aQ9XNwxEBJuA",
        "outputId": "3ed217b5-0fc4-4eb6-b659-ae4bd135b697"
      },
      "execution_count": null,
      "outputs": [
        {
          "output_type": "stream",
          "name": "stdout",
          "text": [
            "Collecting patool\n",
            "  Downloading patool-1.12-py2.py3-none-any.whl (77 kB)\n",
            "\u001b[?25l\r\u001b[K     |████▎                           | 10 kB 34.2 MB/s eta 0:00:01\r\u001b[K     |████████▌                       | 20 kB 16.9 MB/s eta 0:00:01\r\u001b[K     |████████████▊                   | 30 kB 10.5 MB/s eta 0:00:01\r\u001b[K     |█████████████████               | 40 kB 8.5 MB/s eta 0:00:01\r\u001b[K     |█████████████████████▏          | 51 kB 5.2 MB/s eta 0:00:01\r\u001b[K     |█████████████████████████▍      | 61 kB 5.3 MB/s eta 0:00:01\r\u001b[K     |█████████████████████████████▋  | 71 kB 5.7 MB/s eta 0:00:01\r\u001b[K     |████████████████████████████████| 77 kB 3.7 MB/s \n",
            "\u001b[?25hInstalling collected packages: patool\n",
            "Successfully installed patool-1.12\n"
          ]
        }
      ]
    },
    {
      "cell_type": "code",
      "source": [
        "import patoolib"
      ],
      "metadata": {
        "id": "RrdmlmzlBOvi"
      },
      "execution_count": null,
      "outputs": []
    },
    {
      "cell_type": "code",
      "source": [
        "patoolib.extract_archive('dataset.rar')"
      ],
      "metadata": {
        "colab": {
          "base_uri": "https://localhost:8080/",
          "height": 105
        },
        "id": "4F_zMb3mBbb9",
        "outputId": "969365c2-d131-4fcc-e9fd-f8a5ca440395"
      },
      "execution_count": null,
      "outputs": [
        {
          "output_type": "stream",
          "name": "stdout",
          "text": [
            "patool: Extracting dataset.rar ...\n",
            "patool: running /usr/bin/unrar x -- \"/content/drive/MyDrive/projects/1.image classification/dataset.rar\"\n",
            "patool:     with cwd='./Unpack_84q4r6oy'\n",
            "patool: ... dataset.rar extracted to `dataset2' (local file exists).\n"
          ]
        },
        {
          "output_type": "execute_result",
          "data": {
            "application/vnd.google.colaboratory.intrinsic+json": {
              "type": "string"
            },
            "text/plain": [
              "'dataset2'"
            ]
          },
          "metadata": {},
          "execution_count": 13
        }
      ]
    },
    {
      "cell_type": "code",
      "source": [
        "patoolib.extract_archive('test_examples.rar')"
      ],
      "metadata": {
        "colab": {
          "base_uri": "https://localhost:8080/",
          "height": 105
        },
        "id": "mduU05l5CPZt",
        "outputId": "8fd1fef1-cba0-4b30-89d8-a8f5adca0b10"
      },
      "execution_count": null,
      "outputs": [
        {
          "output_type": "stream",
          "name": "stdout",
          "text": [
            "patool: Extracting test_examples.rar ...\n",
            "patool: running /usr/bin/unrar x -- \"/content/drive/MyDrive/projects/1.image classification/test_examples.rar\"\n",
            "patool:     with cwd='./Unpack_cvivrl1r'\n",
            "patool: ... test_examples.rar extracted to `test_examples2' (local file exists).\n"
          ]
        },
        {
          "output_type": "execute_result",
          "data": {
            "application/vnd.google.colaboratory.intrinsic+json": {
              "type": "string"
            },
            "text/plain": [
              "'test_examples2'"
            ]
          },
          "metadata": {},
          "execution_count": 14
        }
      ]
    },
    {
      "cell_type": "code",
      "source": [
        "!dir"
      ],
      "metadata": {
        "colab": {
          "base_uri": "https://localhost:8080/"
        },
        "id": "aNUNmwnuCb5w",
        "outputId": "7367ba1f-9db6-481b-d262-dcbc10a2f9e1"
      },
      "execution_count": null,
      "outputs": [
        {
          "output_type": "stream",
          "name": "stdout",
          "text": [
            "dataset      flagged\t\t\t\t      test_examples1\n",
            "dataset1     Image\\ classification\\ using\\ ANN.ipynb  test_examples2\n",
            "dataset2     model_ANN.h5\t\t\t      test_examples.rar\n",
            "dataset.rar  test_examples\t\t\t      Unpack_sdtta0e8\n"
          ]
        }
      ]
    },
    {
      "cell_type": "code",
      "source": [
        "list(paths.list_images('dataset'))[:10]"
      ],
      "metadata": {
        "colab": {
          "base_uri": "https://localhost:8080/"
        },
        "id": "jFjXb2vjhch1",
        "outputId": "a3b57245-c919-4591-dc3a-19f8001c12d8"
      },
      "execution_count": null,
      "outputs": [
        {
          "output_type": "execute_result",
          "data": {
            "text/plain": [
              "['dataset/Forest/1004.jpg',\n",
              " 'dataset/Forest/1017.jpg',\n",
              " 'dataset/Forest/1024.jpg',\n",
              " 'dataset/Forest/1025.jpg',\n",
              " 'dataset/Forest/1050.jpg',\n",
              " 'dataset/Forest/1034.jpg',\n",
              " 'dataset/Forest/1063.jpg',\n",
              " 'dataset/Forest/1079.jpg',\n",
              " 'dataset/Forest/1080.jpg',\n",
              " 'dataset/Forest/1074.jpg']"
            ]
          },
          "metadata": {},
          "execution_count": 16
        }
      ]
    },
    {
      "cell_type": "code",
      "execution_count": null,
      "metadata": {
        "colab": {
          "base_uri": "https://localhost:8080/",
          "height": 130
        },
        "id": "C6fWvIhpH1hS",
        "outputId": "d2b7c458-8637-406c-99e1-25e72295591f"
      },
      "outputs": [
        {
          "output_type": "error",
          "ename": "SyntaxError",
          "evalue": "ignored",
          "traceback": [
            "\u001b[0;36m  File \u001b[0;32m\"<ipython-input-17-547fdf1b5bc4>\"\u001b[0;36m, line \u001b[0;32m12\u001b[0m\n\u001b[0;31m    random.seed(SEED)\u001b[0m\n\u001b[0m         ^\u001b[0m\n\u001b[0;31mSyntaxError\u001b[0m\u001b[0;31m:\u001b[0m invalid syntax\n"
          ]
        }
      ],
      "source": [
        "\n",
        "print(\"[INFO] loading images...\")\n",
        "time1 = time.time()   \n",
        "data = []\n",
        "\n",
        "labels = []\n",
        "\n",
        "classes = [\"Forest\", \"Buildings\"]\n",
        "\n",
        "\n",
        "imagePaths = sorted(list(paths.list_images('dataset')\n",
        "random.seed(SEED)\n",
        "random.shuffle(imagePaths)\n",
        "\n",
        "\n",
        "with tqdm(total=len(imagePaths)) as pbar:\n",
        "    \n",
        "    \n",
        "    for imagePath in imagePaths:\n",
        "      \n",
        "        image = cv2.imread(imagePath)\n",
        "        image = cv2.resize(image, (32, 32)).flatten()\n",
        "        data.append(image)\n",
        "\n",
        "        \n",
        "        label = imagePath.split(os.path.sep)[-2]\n",
        "        \n",
        "        label = 1 if label == \"Buildings\" else 0\n",
        "        labels.append(label)\n",
        "        \n",
        "    \n",
        "        pbar.update(1)\n",
        "\n",
        "\n",
        "data = np.array(data, dtype=\"float\") / 255.0\n",
        "labels = np.array(labels)\n",
        "\n",
        "print('Time taken: {:.1f} seconds'.format(time.time() - time1))   \n",
        "print(\"done\")"
      ]
    },
    {
      "cell_type": "code",
      "execution_count": null,
      "metadata": {
        "colab": {
          "referenced_widgets": [
            "bb50349b84054d0cb1d2216b5778f8d5",
            "60fdf49906064d0c80a926698d45f57c",
            "08d43f29e3c44a698621a684d49b344d",
            "f77883496bb8435792f856f5d6aa93e6",
            "6adf1597758b4c8ea7fac5f50335cf67",
            "1af91baaaa8b4e50aab91129f2880790",
            "7a1b17eff7334fa5b83d518421fc3cf9",
            "e1d2bb38e21a42289aeffba91e1373ee",
            "3202c713448e4b7883ad90aa49bae08e",
            "e7c9cc9ceba544e4b1e0166ff90eb105",
            "ae8a5772337e41438e2a86eec27db92a"
          ],
          "base_uri": "https://localhost:8080/",
          "height": 101
        },
        "outputId": "48739afd-aad6-4383-a432-195a27c04749",
        "id": "iFxuL7nmqpTh"
      },
      "outputs": [
        {
          "output_type": "stream",
          "name": "stdout",
          "text": [
            "[INFO] loading images...\n"
          ]
        },
        {
          "output_type": "display_data",
          "data": {
            "application/vnd.jupyter.widget-view+json": {
              "model_id": "bb50349b84054d0cb1d2216b5778f8d5",
              "version_minor": 0,
              "version_major": 2
            },
            "text/plain": [
              "  0%|          | 0/883 [00:00<?, ?it/s]"
            ]
          },
          "metadata": {}
        },
        {
          "output_type": "stream",
          "name": "stdout",
          "text": [
            "Time taken: 95.1 seconds\n",
            "done\n"
          ]
        }
      ],
      "source": [
        "# initialize the data and labels\n",
        "print(\"[INFO] loading images...\")\n",
        "time1 = time.time()   # to measure time taken\n",
        "data = []\n",
        "\n",
        "labels = []\n",
        "\n",
        "classes = [\"Forest\", \"Buildings\"]\n",
        "\n",
        "# grab the image paths and randomly shuffle them\n",
        "imagePaths = sorted(list(paths.list_images('dataset')))   # data folder with 2 categorical folders\n",
        "random.seed(SEED)\n",
        "random.shuffle(imagePaths)\n",
        "\n",
        "# progress bar \n",
        "with tqdm(total=len(imagePaths)) as pbar:\n",
        "    \n",
        "    # loop over the input images\n",
        "    for imagePath in imagePaths:\n",
        "        # load the image, resize the image to be 32x32 pixels (ignoring aspect ratio), \n",
        "        # flatten the 32x32x3=3072 pixel image into a list, and store the image in the data list\n",
        "        image = cv2.imread(imagePath)\n",
        "        image = cv2.resize(image, (32, 32)).flatten()\n",
        "        data.append(image)\n",
        "\n",
        "        # extract the class label from the image path and update the labels list\n",
        "        label = imagePath.split(os.path.sep)[-2]\n",
        "        \n",
        "        label = 1 if label == \"Buildings\" else 0\n",
        "        labels.append(label)\n",
        "        \n",
        "        # update the progressbar\n",
        "        pbar.update(1)\n",
        "\n",
        "# scale the raw pixel intensities to the range [0, 1]\n",
        "data = np.array(data, dtype=\"float\") / 255.0\n",
        "labels = np.array(labels)\n",
        "\n",
        "print('Time taken: {:.1f} seconds'.format(time.time() - time1))   # to measure time taken\n",
        "print(\"done\")"
      ]
    },
    {
      "cell_type": "code",
      "source": [
        "print(\"total images:\", len(data))"
      ],
      "metadata": {
        "colab": {
          "base_uri": "https://localhost:8080/"
        },
        "id": "HXCYZsLujjbx",
        "outputId": "c429adf0-a44d-4f4b-ede7-866e12680ee5"
      },
      "execution_count": null,
      "outputs": [
        {
          "output_type": "stream",
          "name": "stdout",
          "text": [
            "total images: 883\n"
          ]
        }
      ]
    },
    {
      "cell_type": "code",
      "source": [
        "print('sample image:{}'.format(data[0]))\n",
        "print('no of pixels vlaues: {}'.format(len(data[0])))\n",
        "print('label: {}'.format(classes[labels[0]]))"
      ],
      "metadata": {
        "colab": {
          "base_uri": "https://localhost:8080/"
        },
        "id": "fvFOkkIOl1c4",
        "outputId": "03b6d8c3-69f2-4515-fad2-8db1bac360f5"
      },
      "execution_count": null,
      "outputs": [
        {
          "output_type": "stream",
          "name": "stdout",
          "text": [
            "sample image:[0.31764706 0.29803922 0.28627451 ... 0.74117647 0.58823529 0.4627451 ]\n",
            "no of pixels vlaues: 3072\n",
            "label: Forest\n"
          ]
        }
      ]
    },
    {
      "cell_type": "code",
      "source": [
        ""
      ],
      "metadata": {
        "id": "3zsxqJRSpNmS"
      },
      "execution_count": null,
      "outputs": []
    },
    {
      "cell_type": "markdown",
      "source": [
        "Creating trian test splite"
      ],
      "metadata": {
        "id": "LXFt66Wovq-g"
      }
    },
    {
      "cell_type": "code",
      "source": [
        "(trainX, testX, trainY, testY) = train_test_split(data, labels, test_size=0.2, random_state=SEED )"
      ],
      "metadata": {
        "id": "MjScyMVOvvAQ"
      },
      "execution_count": null,
      "outputs": []
    },
    {
      "cell_type": "code",
      "source": [
        "trainX.shape"
      ],
      "metadata": {
        "colab": {
          "base_uri": "https://localhost:8080/"
        },
        "id": "XE-iPqtqwKOA",
        "outputId": "966d8889-9c8c-4595-8ad8-66246fa80a4d"
      },
      "execution_count": null,
      "outputs": [
        {
          "output_type": "execute_result",
          "data": {
            "text/plain": [
              "(706, 3072)"
            ]
          },
          "metadata": {},
          "execution_count": 22
        }
      ]
    },
    {
      "cell_type": "code",
      "source": [
        "trainY.shape"
      ],
      "metadata": {
        "colab": {
          "base_uri": "https://localhost:8080/"
        },
        "id": "CiHnVxcYwNhr",
        "outputId": "457292a9-9bf6-48a5-d0c2-3d20a7f5b6ee"
      },
      "execution_count": null,
      "outputs": [
        {
          "output_type": "execute_result",
          "data": {
            "text/plain": [
              "(706,)"
            ]
          },
          "metadata": {},
          "execution_count": 23
        }
      ]
    },
    {
      "cell_type": "code",
      "source": [
        "testY.shape"
      ],
      "metadata": {
        "colab": {
          "base_uri": "https://localhost:8080/"
        },
        "id": "_1AektGcyM62",
        "outputId": "7177ba8d-90a4-4618-dd1b-c75301d302f6"
      },
      "execution_count": null,
      "outputs": [
        {
          "output_type": "execute_result",
          "data": {
            "text/plain": [
              "(177,)"
            ]
          },
          "metadata": {},
          "execution_count": 24
        }
      ]
    },
    {
      "cell_type": "code",
      "source": [
        "trainX"
      ],
      "metadata": {
        "colab": {
          "base_uri": "https://localhost:8080/"
        },
        "id": "WHlQojt9yl8P",
        "outputId": "7b2ddf6f-12d8-4f3b-a746-50c272c3ba51"
      },
      "execution_count": null,
      "outputs": [
        {
          "output_type": "execute_result",
          "data": {
            "text/plain": [
              "array([[0.20392157, 0.57254902, 0.34509804, ..., 0.00784314, 0.17254902,\n",
              "        0.07843137],\n",
              "       [0.85490196, 0.87843137, 0.95686275, ..., 0.        , 0.        ,\n",
              "        0.01176471],\n",
              "       [0.76862745, 0.77254902, 0.78039216, ..., 0.44313725, 0.46666667,\n",
              "        0.48627451],\n",
              "       ...,\n",
              "       [0.88235294, 0.87058824, 0.80392157, ..., 0.21960784, 0.19215686,\n",
              "        0.23137255],\n",
              "       [0.84313725, 0.78823529, 0.79215686, ..., 0.3372549 , 0.36862745,\n",
              "        0.62745098],\n",
              "       [0.02352941, 0.35686275, 0.17254902, ..., 0.09411765, 0.28627451,\n",
              "        0.21568627]])"
            ]
          },
          "metadata": {},
          "execution_count": 25
        }
      ]
    },
    {
      "cell_type": "code",
      "source": [
        "testY"
      ],
      "metadata": {
        "colab": {
          "base_uri": "https://localhost:8080/"
        },
        "id": "8-7IJu7Dy0G-",
        "outputId": "73daa739-48f8-428f-d901-b65cfc71260c"
      },
      "execution_count": null,
      "outputs": [
        {
          "output_type": "execute_result",
          "data": {
            "text/plain": [
              "array([1, 0, 1, 0, 1, 0, 1, 0, 0, 0, 1, 1, 1, 1, 0, 0, 1, 1, 0, 1, 1, 0,\n",
              "       0, 1, 1, 1, 0, 1, 0, 1, 0, 0, 0, 0, 0, 1, 1, 0, 1, 1, 1, 1, 0, 1,\n",
              "       0, 1, 0, 1, 1, 1, 1, 0, 1, 0, 1, 0, 1, 0, 0, 1, 1, 0, 1, 0, 1, 1,\n",
              "       0, 0, 1, 0, 0, 0, 0, 1, 0, 1, 0, 0, 1, 1, 1, 0, 0, 0, 0, 0, 1, 1,\n",
              "       0, 1, 0, 1, 1, 0, 1, 1, 1, 0, 1, 0, 0, 0, 1, 0, 0, 1, 1, 1, 0, 0,\n",
              "       1, 0, 0, 0, 0, 1, 0, 1, 0, 1, 1, 1, 1, 1, 1, 1, 0, 0, 1, 1, 1, 1,\n",
              "       1, 1, 0, 0, 1, 0, 1, 1, 1, 0, 0, 1, 1, 0, 1, 1, 1, 1, 0, 0, 0, 1,\n",
              "       1, 0, 1, 1, 1, 1, 1, 0, 0, 0, 0, 1, 0, 1, 0, 0, 0, 0, 1, 0, 1, 1,\n",
              "       1])"
            ]
          },
          "metadata": {},
          "execution_count": 26
        }
      ]
    },
    {
      "cell_type": "code",
      "source": [
        "type(trainY)"
      ],
      "metadata": {
        "colab": {
          "base_uri": "https://localhost:8080/"
        },
        "id": "6HZVAI4rJPUs",
        "outputId": "caa91fc9-2801-48ff-bf97-27db594f6c42"
      },
      "execution_count": null,
      "outputs": [
        {
          "output_type": "execute_result",
          "data": {
            "text/plain": [
              "numpy.ndarray"
            ]
          },
          "metadata": {},
          "execution_count": 27
        }
      ]
    },
    {
      "cell_type": "code",
      "source": [
        "testY"
      ],
      "metadata": {
        "colab": {
          "base_uri": "https://localhost:8080/"
        },
        "id": "7xx9Iu8fJW9b",
        "outputId": "767c664d-1c65-45e8-f3f2-69f6ae270ba3"
      },
      "execution_count": null,
      "outputs": [
        {
          "output_type": "execute_result",
          "data": {
            "text/plain": [
              "array([1, 0, 1, 0, 1, 0, 1, 0, 0, 0, 1, 1, 1, 1, 0, 0, 1, 1, 0, 1, 1, 0,\n",
              "       0, 1, 1, 1, 0, 1, 0, 1, 0, 0, 0, 0, 0, 1, 1, 0, 1, 1, 1, 1, 0, 1,\n",
              "       0, 1, 0, 1, 1, 1, 1, 0, 1, 0, 1, 0, 1, 0, 0, 1, 1, 0, 1, 0, 1, 1,\n",
              "       0, 0, 1, 0, 0, 0, 0, 1, 0, 1, 0, 0, 1, 1, 1, 0, 0, 0, 0, 0, 1, 1,\n",
              "       0, 1, 0, 1, 1, 0, 1, 1, 1, 0, 1, 0, 0, 0, 1, 0, 0, 1, 1, 1, 0, 0,\n",
              "       1, 0, 0, 0, 0, 1, 0, 1, 0, 1, 1, 1, 1, 1, 1, 1, 0, 0, 1, 1, 1, 1,\n",
              "       1, 1, 0, 0, 1, 0, 1, 1, 1, 0, 0, 1, 1, 0, 1, 1, 1, 1, 0, 0, 0, 1,\n",
              "       1, 0, 1, 1, 1, 1, 1, 0, 0, 0, 0, 1, 0, 1, 0, 0, 0, 0, 1, 0, 1, 1,\n",
              "       1])"
            ]
          },
          "metadata": {},
          "execution_count": 28
        }
      ]
    },
    {
      "cell_type": "code",
      "source": [
        "trainY = to_categorical(trainY, num_classes=2)\n",
        "testY = to_categorical(testY, num_classes=2)"
      ],
      "metadata": {
        "id": "u-DyckiTy2ee"
      },
      "execution_count": null,
      "outputs": []
    },
    {
      "cell_type": "code",
      "source": [
        "trainY"
      ],
      "metadata": {
        "colab": {
          "base_uri": "https://localhost:8080/"
        },
        "id": "oHNdza-Pzbsx",
        "outputId": "227324ec-a9bb-4bc5-8329-c59c80a21df1"
      },
      "execution_count": null,
      "outputs": [
        {
          "output_type": "execute_result",
          "data": {
            "text/plain": [
              "array([[1., 0.],\n",
              "       [0., 1.],\n",
              "       [0., 1.],\n",
              "       ...,\n",
              "       [1., 0.],\n",
              "       [0., 1.],\n",
              "       [1., 0.]], dtype=float32)"
            ]
          },
          "metadata": {},
          "execution_count": 30
        }
      ]
    },
    {
      "cell_type": "code",
      "source": [
        "sample_image = (trainX[5]*255).astype('int')"
      ],
      "metadata": {
        "id": "fsf87hn9zpSk"
      },
      "execution_count": null,
      "outputs": []
    },
    {
      "cell_type": "code",
      "source": [
        "plt.imshow(sample_image.reshape(32,32,3))"
      ],
      "metadata": {
        "colab": {
          "base_uri": "https://localhost:8080/",
          "height": 283
        },
        "id": "9EYAki3K0vTw",
        "outputId": "827fbf2b-818e-4387-e7de-b89e796be679"
      },
      "execution_count": null,
      "outputs": [
        {
          "output_type": "execute_result",
          "data": {
            "text/plain": [
              "<matplotlib.image.AxesImage at 0x7fd66e60f410>"
            ]
          },
          "metadata": {},
          "execution_count": 32
        },
        {
          "output_type": "display_data",
          "data": {
            "image/png": "[encoded data removed]",
            "text/plain": [
              "<Figure size 432x288 with 1 Axes>"
            ]
          },
          "metadata": {
            "needs_background": "light"
          }
        }
      ]
    },
    {
      "cell_type": "code",
      "source": [
        "trainY[5]"
      ],
      "metadata": {
        "colab": {
          "base_uri": "https://localhost:8080/"
        },
        "id": "_NbPXrc71LPK",
        "outputId": "f85103b8-77cb-4728-cefb-5b508c2d69f3"
      },
      "execution_count": null,
      "outputs": [
        {
          "output_type": "execute_result",
          "data": {
            "text/plain": [
              "array([0., 1.], dtype=float32)"
            ]
          },
          "metadata": {},
          "execution_count": 33
        }
      ]
    },
    {
      "cell_type": "markdown",
      "source": [
        "Defining the architecture of ANN model"
      ],
      "metadata": {
        "id": "alM-ourm1_eU"
      }
    },
    {
      "cell_type": "code",
      "source": [
        "model = Sequential()\n",
        "model.add(Dense(units=1024, input_shape=(3072,), kernel_initializer='uniform', activation='relu'))\n",
        "model.add(Dense(units=512, kernel_initializer='uniform', activation='relu'))\n",
        "model.add(Dense(units=2, kernel_initializer='uniform', activation='softmax'))"
      ],
      "metadata": {
        "id": "h16PS53M1jzx"
      },
      "execution_count": null,
      "outputs": []
    },
    {
      "cell_type": "markdown",
      "source": [
        "Compiling tensorflow ANN model"
      ],
      "metadata": {
        "id": "NpRQSHWP4Ldo"
      }
    },
    {
      "cell_type": "code",
      "source": [
        "INIT_LR = 0.01\n",
        "EPOCHS = 50\n",
        "print('[INFO] compiling network network...')\n",
        "opt = SGD(lr=INIT_LR)\n",
        "model.compile(loss='binary_crossentropy', optimizer=opt, metrics=['accuracy'])"
      ],
      "metadata": {
        "colab": {
          "base_uri": "https://localhost:8080/"
        },
        "id": "_WF5tstm2OMQ",
        "outputId": "053be10e-feb9-4653-ccad-3b751d357600"
      },
      "execution_count": null,
      "outputs": [
        {
          "output_type": "stream",
          "name": "stdout",
          "text": [
            "[INFO] compiling network network...\n"
          ]
        }
      ]
    },
    {
      "cell_type": "code",
      "source": [
        "model.summary()"
      ],
      "metadata": {
        "colab": {
          "base_uri": "https://localhost:8080/"
        },
        "id": "0mwnFRs_2aK1",
        "outputId": "ce498e5f-1600-4132-fdd1-c6d4d7a525c0"
      },
      "execution_count": null,
      "outputs": [
        {
          "output_type": "stream",
          "name": "stdout",
          "text": [
            "Model: \"sequential\"\n",
            "_________________________________________________________________\n",
            " Layer (type)                Output Shape              Param #   \n",
            "=================================================================\n",
            " dense (Dense)               (None, 1024)              3146752   \n",
            "                                                                 \n",
            " dense_1 (Dense)             (None, 512)               524800    \n",
            "                                                                 \n",
            " dense_2 (Dense)             (None, 2)                 1026      \n",
            "                                                                 \n",
            "=================================================================\n",
            "Total params: 3,672,578\n",
            "Trainable params: 3,672,578\n",
            "Non-trainable params: 0\n",
            "_________________________________________________________________\n"
          ]
        }
      ]
    },
    {
      "cell_type": "code",
      "source": [
        "time1 = time.time()\n",
        "H = model.fit(trainX, trainY, validation_data=(testX, testY), epochs=EPOCHS, batch_size=32)\n",
        "print('Time taken: {:.1f} seconds'.format(time.time() - time1))  "
      ],
      "metadata": {
        "colab": {
          "base_uri": "https://localhost:8080/"
        },
        "id": "V316-lDs6_hE",
        "outputId": "53c99b71-2935-4185-c2e5-0f033ddc5f96"
      },
      "execution_count": null,
      "outputs": [
        {
          "output_type": "stream",
          "name": "stdout",
          "text": [
            "Epoch 1/50\n",
            "23/23 [==============================] - 2s 12ms/step - loss: 0.6430 - accuracy: 0.5552 - val_loss: 0.6256 - val_accuracy: 0.5424\n",
            "Epoch 2/50\n",
            "23/23 [==============================] - 0s 5ms/step - loss: 0.6141 - accuracy: 0.5595 - val_loss: 0.6133 - val_accuracy: 0.8079\n",
            "Epoch 3/50\n",
            "23/23 [==============================] - 0s 5ms/step - loss: 0.5943 - accuracy: 0.6671 - val_loss: 0.5916 - val_accuracy: 0.5367\n",
            "Epoch 4/50\n",
            "23/23 [==============================] - 0s 5ms/step - loss: 0.5712 - accuracy: 0.6544 - val_loss: 0.5611 - val_accuracy: 0.8418\n",
            "Epoch 5/50\n",
            "23/23 [==============================] - 0s 5ms/step - loss: 0.5496 - accuracy: 0.7450 - val_loss: 0.5243 - val_accuracy: 0.7571\n",
            "Epoch 6/50\n",
            "23/23 [==============================] - 0s 4ms/step - loss: 0.5274 - accuracy: 0.7450 - val_loss: 0.5052 - val_accuracy: 0.7627\n",
            "Epoch 7/50\n",
            "23/23 [==============================] - 0s 5ms/step - loss: 0.5049 - accuracy: 0.7663 - val_loss: 0.4756 - val_accuracy: 0.8136\n",
            "Epoch 8/50\n",
            "23/23 [==============================] - 0s 4ms/step - loss: 0.4844 - accuracy: 0.7975 - val_loss: 0.4822 - val_accuracy: 0.7514\n",
            "Epoch 9/50\n",
            "23/23 [==============================] - 0s 4ms/step - loss: 0.4713 - accuracy: 0.7946 - val_loss: 0.4795 - val_accuracy: 0.7345\n",
            "Epoch 10/50\n",
            "23/23 [==============================] - 0s 4ms/step - loss: 0.4551 - accuracy: 0.8059 - val_loss: 0.4297 - val_accuracy: 0.8757\n",
            "Epoch 11/50\n",
            "23/23 [==============================] - 0s 4ms/step - loss: 0.4349 - accuracy: 0.8357 - val_loss: 0.4061 - val_accuracy: 0.8418\n",
            "Epoch 12/50\n",
            "23/23 [==============================] - 0s 5ms/step - loss: 0.4201 - accuracy: 0.8258 - val_loss: 0.5027 - val_accuracy: 0.7401\n",
            "Epoch 13/50\n",
            "23/23 [==============================] - 0s 4ms/step - loss: 0.4191 - accuracy: 0.8272 - val_loss: 0.3952 - val_accuracy: 0.8814\n",
            "Epoch 14/50\n",
            "23/23 [==============================] - 0s 4ms/step - loss: 0.3962 - accuracy: 0.8414 - val_loss: 0.4609 - val_accuracy: 0.7684\n",
            "Epoch 15/50\n",
            "23/23 [==============================] - 0s 5ms/step - loss: 0.3904 - accuracy: 0.8371 - val_loss: 0.3672 - val_accuracy: 0.8701\n",
            "Epoch 16/50\n",
            "23/23 [==============================] - 0s 4ms/step - loss: 0.3840 - accuracy: 0.8414 - val_loss: 0.4093 - val_accuracy: 0.8305\n",
            "Epoch 17/50\n",
            "23/23 [==============================] - 0s 4ms/step - loss: 0.3766 - accuracy: 0.8428 - val_loss: 0.4058 - val_accuracy: 0.7910\n",
            "Epoch 18/50\n",
            "23/23 [==============================] - 0s 4ms/step - loss: 0.3582 - accuracy: 0.8499 - val_loss: 0.3487 - val_accuracy: 0.8757\n",
            "Epoch 19/50\n",
            "23/23 [==============================] - 0s 4ms/step - loss: 0.3524 - accuracy: 0.8626 - val_loss: 0.3442 - val_accuracy: 0.8814\n",
            "Epoch 20/50\n",
            "23/23 [==============================] - 0s 4ms/step - loss: 0.3447 - accuracy: 0.8499 - val_loss: 0.3365 - val_accuracy: 0.8701\n",
            "Epoch 21/50\n",
            "23/23 [==============================] - 0s 4ms/step - loss: 0.3371 - accuracy: 0.8654 - val_loss: 0.3302 - val_accuracy: 0.8814\n",
            "Epoch 22/50\n",
            "23/23 [==============================] - 0s 4ms/step - loss: 0.3253 - accuracy: 0.8683 - val_loss: 0.3263 - val_accuracy: 0.8870\n",
            "Epoch 23/50\n",
            "23/23 [==============================] - 0s 5ms/step - loss: 0.3174 - accuracy: 0.8754 - val_loss: 0.3607 - val_accuracy: 0.8531\n",
            "Epoch 24/50\n",
            "23/23 [==============================] - 0s 5ms/step - loss: 0.3119 - accuracy: 0.8768 - val_loss: 0.3473 - val_accuracy: 0.8588\n",
            "Epoch 25/50\n",
            "23/23 [==============================] - 0s 5ms/step - loss: 0.3050 - accuracy: 0.8853 - val_loss: 0.3380 - val_accuracy: 0.8757\n",
            "Epoch 26/50\n",
            "23/23 [==============================] - 0s 4ms/step - loss: 0.3046 - accuracy: 0.8867 - val_loss: 0.3194 - val_accuracy: 0.8588\n",
            "Epoch 27/50\n",
            "23/23 [==============================] - 0s 4ms/step - loss: 0.2973 - accuracy: 0.8782 - val_loss: 0.3354 - val_accuracy: 0.8588\n",
            "Epoch 28/50\n",
            "23/23 [==============================] - 0s 4ms/step - loss: 0.2828 - accuracy: 0.8895 - val_loss: 0.4667 - val_accuracy: 0.7797\n",
            "Epoch 29/50\n",
            "23/23 [==============================] - 0s 4ms/step - loss: 0.2775 - accuracy: 0.8980 - val_loss: 0.6815 - val_accuracy: 0.6780\n",
            "Epoch 30/50\n",
            "23/23 [==============================] - 0s 4ms/step - loss: 0.2880 - accuracy: 0.8924 - val_loss: 0.3510 - val_accuracy: 0.8588\n",
            "Epoch 31/50\n",
            "23/23 [==============================] - 0s 4ms/step - loss: 0.2655 - accuracy: 0.9008 - val_loss: 1.2229 - val_accuracy: 0.4972\n",
            "Epoch 32/50\n",
            "23/23 [==============================] - 0s 4ms/step - loss: 0.3074 - accuracy: 0.8966 - val_loss: 0.3413 - val_accuracy: 0.8701\n",
            "Epoch 33/50\n",
            "23/23 [==============================] - 0s 5ms/step - loss: 0.2549 - accuracy: 0.9164 - val_loss: 0.3359 - val_accuracy: 0.8475\n",
            "Epoch 34/50\n",
            "23/23 [==============================] - 0s 5ms/step - loss: 0.2503 - accuracy: 0.9108 - val_loss: 0.3688 - val_accuracy: 0.8249\n",
            "Epoch 35/50\n",
            "23/23 [==============================] - 0s 4ms/step - loss: 0.2517 - accuracy: 0.9093 - val_loss: 0.3553 - val_accuracy: 0.8362\n",
            "Epoch 36/50\n",
            "23/23 [==============================] - 0s 4ms/step - loss: 0.2413 - accuracy: 0.9235 - val_loss: 0.3333 - val_accuracy: 0.8475\n",
            "Epoch 37/50\n",
            "23/23 [==============================] - 0s 4ms/step - loss: 0.2400 - accuracy: 0.9136 - val_loss: 0.3003 - val_accuracy: 0.8927\n",
            "Epoch 38/50\n",
            "23/23 [==============================] - 0s 5ms/step - loss: 0.2272 - accuracy: 0.9207 - val_loss: 0.3063 - val_accuracy: 0.8588\n",
            "Epoch 39/50\n",
            "23/23 [==============================] - 0s 4ms/step - loss: 0.2186 - accuracy: 0.9235 - val_loss: 0.2995 - val_accuracy: 0.8814\n",
            "Epoch 40/50\n",
            "23/23 [==============================] - 0s 4ms/step - loss: 0.2087 - accuracy: 0.9320 - val_loss: 0.3102 - val_accuracy: 0.8814\n",
            "Epoch 41/50\n",
            "23/23 [==============================] - 0s 5ms/step - loss: 0.2104 - accuracy: 0.9348 - val_loss: 0.3010 - val_accuracy: 0.8757\n",
            "Epoch 42/50\n",
            "23/23 [==============================] - 0s 4ms/step - loss: 0.2045 - accuracy: 0.9419 - val_loss: 0.3805 - val_accuracy: 0.8305\n",
            "Epoch 43/50\n",
            "23/23 [==============================] - 0s 5ms/step - loss: 0.2045 - accuracy: 0.9292 - val_loss: 1.3166 - val_accuracy: 0.6441\n",
            "Epoch 44/50\n",
            "23/23 [==============================] - 0s 4ms/step - loss: 0.2626 - accuracy: 0.9207 - val_loss: 0.4356 - val_accuracy: 0.8249\n",
            "Epoch 45/50\n",
            "23/23 [==============================] - 0s 4ms/step - loss: 0.2037 - accuracy: 0.9419 - val_loss: 0.3046 - val_accuracy: 0.8701\n",
            "Epoch 46/50\n",
            "23/23 [==============================] - 0s 4ms/step - loss: 0.1883 - accuracy: 0.9504 - val_loss: 0.3027 - val_accuracy: 0.8814\n",
            "Epoch 47/50\n",
            "23/23 [==============================] - 0s 5ms/step - loss: 0.1802 - accuracy: 0.9433 - val_loss: 0.3046 - val_accuracy: 0.8814\n",
            "Epoch 48/50\n",
            "23/23 [==============================] - 0s 4ms/step - loss: 0.1720 - accuracy: 0.9533 - val_loss: 0.3024 - val_accuracy: 0.8814\n",
            "Epoch 49/50\n",
            "23/23 [==============================] - 0s 4ms/step - loss: 0.1766 - accuracy: 0.9533 - val_loss: 0.3200 - val_accuracy: 0.8531\n",
            "Epoch 50/50\n",
            "18/23 [======================>.......] - ETA: 0s - loss: 0.1641 - accuracy: 0.9583"
          ]
        }
      ]
    },
    {
      "cell_type": "markdown",
      "source": [
        "Evaluating the model"
      ],
      "metadata": {
        "id": "64FwIg6unp04"
      }
    },
    {
      "cell_type": "code",
      "source": [
        "print('[INFO] evaluating network...')\n",
        "pred_prob = model.predict(testX, batch_size=32)\n"
      ],
      "metadata": {
        "id": "1cBsGo-KOh-0"
      },
      "execution_count": null,
      "outputs": []
    },
    {
      "cell_type": "code",
      "source": [
        "pred_prob[:10]"
      ],
      "metadata": {
        "id": "iXoa-vvVoELf"
      },
      "execution_count": null,
      "outputs": []
    },
    {
      "cell_type": "code",
      "source": [
        "test_y = [np.argmax(i) for i in testY]\n",
        "pred_y = [np.argmax(i) for i in pred_prob]"
      ],
      "metadata": {
        "id": "KYim8erZoMFO"
      },
      "execution_count": null,
      "outputs": []
    },
    {
      "cell_type": "code",
      "source": [
        "test_y[:10]"
      ],
      "metadata": {
        "id": "Go5mS855of17"
      },
      "execution_count": null,
      "outputs": []
    },
    {
      "cell_type": "code",
      "source": [
        "pred_y[:10]"
      ],
      "metadata": {
        "id": "XabgMv0AorXg"
      },
      "execution_count": null,
      "outputs": []
    },
    {
      "cell_type": "code",
      "source": [
        "def plot_confusion_metrix(y_true, y_pred, classes,\n",
        "                          normalize=False, title='Confusion Matrix',\n",
        "                          cmap=plt.cm.Blues):\n",
        "    cm = confusion_matrix(y_true,y_pred)\n",
        "\n",
        "\n",
        "    if normalize:\n",
        "        cm = cm.astype('float')/ cm.sum(axis=1)[:, newaxis]\n",
        "        print('Normalize Confusion matrix')\n",
        "    else:\n",
        "        print('Confusion Matrix Without Normalization')\n",
        "\n",
        "\n",
        "\n",
        "    plt.imshow(cm, interpolation='nearest', cmap=cmap)\n",
        "    plt.title(title)\n",
        "    plt.colorbar()\n",
        "    ticks_marks = np.arange(len(classes))\n",
        "    plt.xticks(ticks_marks, classes, rotation=35)\n",
        "    plt.yticks(ticks_marks, classes)\n",
        "\n",
        "\n",
        "    fmt = '.2f' if normalize else 'd'\n",
        "    thresh = cm.max() /2.\n",
        "\n",
        "    for i , j in itertools.product(range(cm.shape[0]), range(cm.shape[0])):\n",
        "        plt.text(j, i, format(cm[i,j], fmt),\n",
        "                 horizontalalignment='center',\n",
        "                 color='white' if cm[i, j] > thresh else 'black')\n",
        "    \n",
        "\n",
        "\n",
        "    plt.ylabel(\"True label\")\n",
        "    plt.xlabel(\"Predicted label\")\n",
        "    plt.show()\n",
        "\n",
        "\n",
        "\n",
        "    print('---------------------------------')\n",
        "    print('Classification report')\n",
        "    print(classification_report(y_true, y_pred))\n",
        "\n",
        "    print(\"----------------------------------\")\n",
        "    acc = accuracy_score(y_true, y_pred)\n",
        "    print('Accuracy of the model:', acc)\n",
        "\n",
        "\n",
        "\n",
        "\n"
      ],
      "metadata": {
        "id": "I7cqvK1Po8qT"
      },
      "execution_count": null,
      "outputs": []
    },
    {
      "cell_type": "code",
      "execution_count": null,
      "metadata": {
        "id": "dyVfoLGNH1hp",
        "scrolled": true
      },
      "outputs": [],
      "source": [
        "plot_confusion_metrix(test_y, pred_y,classes=[\"Forest: 0\",\"Buildings: 1\"])"
      ]
    },
    {
      "cell_type": "markdown",
      "source": [
        "Generating Plots for acc and val"
      ],
      "metadata": {
        "id": "EdeleeRAyDva"
      }
    },
    {
      "cell_type": "code",
      "source": [
        "N = np.arange(0, EPOCHS)\n",
        "plt.style.use(\"ggplot\")\n",
        "plt.figure(figsize = [10,8])\n",
        "plt.plot(N, H.history[\"loss\"], label=\"train_loss\")\n",
        "plt.plot(N, H.history[\"val_loss\"], label=\"val_loss\")\n",
        "plt.title(\"ANN: Training & Validation Loss\")\n",
        "plt.xlabel(\"Epoch #\", weight=\"bold\")\n",
        "plt.ylabel(\"Loss\", weight=\"bold\")\n",
        "plt.legend()\n",
        "plt.show()"
      ],
      "metadata": {
        "id": "_TS_liS9yP--"
      },
      "execution_count": null,
      "outputs": []
    },
    {
      "cell_type": "code",
      "source": [
        "N = np.arange(0, EPOCHS)\n",
        "plt.style.use(\"ggplot\")\n",
        "plt.figure(figsize = [10,8])\n",
        "plt.plot(N, H.history[\"accuracy\"], label=\"train_acc\")\n",
        "plt.plot(N, H.history[\"val_accuracy\"], label=\"val_acc\")\n",
        "plt.title(\"ANN: Training and Validation Accuracy\")\n",
        "plt.xlabel(\"Epoch #\", weight=\"bold\")\n",
        "plt.ylabel(\"Accuracy\", weight=\"bold\")\n",
        "plt.legend()\n",
        "plt.show()"
      ],
      "metadata": {
        "id": "XiMDkZF9z0Og"
      },
      "execution_count": null,
      "outputs": []
    },
    {
      "cell_type": "code",
      "source": [
        "model.summary()"
      ],
      "metadata": {
        "id": "j1VKVoka01xd"
      },
      "execution_count": null,
      "outputs": []
    },
    {
      "cell_type": "code",
      "source": [
        "print('[INFO] serializing network and label binarizer...')\n",
        "model.save('model_ANN.h5')"
      ],
      "metadata": {
        "id": "OjlLGNJv1yza"
      },
      "execution_count": null,
      "outputs": []
    },
    {
      "cell_type": "code",
      "source": [
        "from tensorflow.keras.models import load_model\n",
        "import pickle\n",
        "import cv2\n",
        "import imutils\n",
        "import matplotlib.pyplot as plt\n",
        "%matplotlib inline"
      ],
      "metadata": {
        "id": "YS2443YV2MaY"
      },
      "execution_count": null,
      "outputs": []
    },
    {
      "cell_type": "code",
      "source": [
        "def display_img(img):\n",
        "    fig = plt.figure(figsize=(12,10))\n",
        "    plt.grid(b=None)\n",
        "    ax = fig.add_subplot(111)\n",
        "    ax.imshow(img)"
      ],
      "metadata": {
        "id": "jFBVA2un2Wdo"
      },
      "execution_count": null,
      "outputs": []
    },
    {
      "cell_type": "code",
      "source": [
        "width = 32\n",
        "height = 32\n",
        "\n",
        "testImagePaths = sorted(list(paths.list_images('test_examples')))\n",
        "\n",
        "\n",
        "with tqdm(total=len(testImagePaths)) as pbar:\n",
        "\n",
        "    for imagePath in testImagePaths:\n",
        "        image = cv2.imread(imagePath)\n",
        "        output = image.copy()\n",
        "        image = cv2.resize(image, (width, height))\n",
        "\n",
        "        image = image.astype('float')/255.0\n",
        "\n",
        "        image = image.flatten()\n",
        "        image = image.reshape((1, image.shape[0]))\n",
        "\n",
        "\n",
        "        preds = model.predict(image)\n",
        "\n",
        "\n",
        "        i = preds.argmax(axis=1)[0]\n",
        "        label = classes[i]\n",
        "\n",
        "        label = \"{}: {:.2f}%\".format(label, preds[0][i] * 100)\n",
        "\n",
        "\n",
        "        output = imutils.resize(output, width=400)\n",
        "        cv2.putText(output, label, (10,25), cv2.FONT_HERSHEY_SIMPLEX,\n",
        "                    0.7, (0, 255, 0), 2)\n",
        "        img = cv2.cvtColor(output, cv2.COLOR_BGR2RGB)\n",
        "        display_img(img)\n",
        "\n",
        "        pbar.update(1)\n",
        "\n",
        "\n",
        "\n",
        "\n"
      ],
      "metadata": {
        "id": "S33fS1iS3L91"
      },
      "execution_count": null,
      "outputs": []
    },
    {
      "cell_type": "markdown",
      "source": [
        "Deployment"
      ],
      "metadata": {
        "id": "nrYGT-lx7a3Y"
      }
    },
    {
      "cell_type": "code",
      "source": [
        "!pip install gradio"
      ],
      "metadata": {
        "id": "P0ZEYx3o3UJT"
      },
      "execution_count": null,
      "outputs": []
    },
    {
      "cell_type": "code",
      "source": [
        "import gradio as gr"
      ],
      "metadata": {
        "id": "7ZKKw79e7kEb"
      },
      "execution_count": null,
      "outputs": []
    },
    {
      "cell_type": "code",
      "source": [
        "Colab notebook detected. To show errors in colab notebook, set `debug=True` in `launch()`\n",
        "Running on public URL: https://30465.gradio.app\n"
      ],
      "metadata": {
        "id": "9Zx83Q2v8h4v"
      },
      "execution_count": null,
      "outputs": []
    },
    {
      "cell_type": "code",
      "source": [
        "def predict_image(image):\n",
        "    \n",
        "    image = cv2.resize(image, (32, 32))\n",
        "\n",
        "    \n",
        "    image = image.astype(\"float\") / 255.0\n",
        "\n",
        "    \n",
        "    image = image.flatten()\n",
        "    image = image.reshape((1, image.shape[0]))\n",
        "\n",
        "    \n",
        "    preds = model.predict(image).flatten()\n",
        "    result = dict()\n",
        "    result[\"Forest\"] = round(float(list(preds)[0]), 3)\n",
        "    result[\"Buildings\"] = round(float(list(preds)[1]), 3)\n",
        "    print(result)\n",
        "    \n",
        "    return result\n",
        "\n",
        "im = gr.inputs.Image(shape=(32,32))\n",
        "label = gr.outputs.Label(num_top_classes=2)\n",
        "\n",
        "gr.Interface(fn=predict_image, inputs=im, outputs=label, capture_session=True, title=\"ANN Demo\").launch(share=True)"
      ],
      "metadata": {
        "id": "Wog9AXlM_QPR"
      },
      "execution_count": null,
      "outputs": []
    },
    {
      "cell_type": "code",
      "source": [
        ""
      ],
      "metadata": {
        "id": "qEppzSQO_RHd"
      },
      "execution_count": null,
      "outputs": []
    }
  ]
}